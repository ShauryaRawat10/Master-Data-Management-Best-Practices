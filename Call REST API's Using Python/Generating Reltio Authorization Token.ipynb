{
 "cells": [
  {
   "cell_type": "markdown",
   "id": "21ff7567",
   "metadata": {},
   "source": [
    "<h2>Generating Reltio Authorization Token</h2>\n",
    "<h4>REST API call</h4>"
   ]
  },
  {
   "cell_type": "code",
   "execution_count": 1,
   "id": "6d0e9e5f",
   "metadata": {},
   "outputs": [],
   "source": [
    "import requests\n",
    "import json"
   ]
  },
  {
   "cell_type": "code",
   "execution_count": 8,
   "id": "63abb012",
   "metadata": {},
   "outputs": [],
   "source": [
    "auth_uri = \"https://auth.reltio.com/oauth/token\"\n",
    "auth_headers = {\n",
    "    \"Authorization\" : \"Basic ###lbnRpdHkzNjAtcVlpdzpsbXQ0QkFKWQ==\",\n",
    "    \"Content-Type\" : \"application/json\"\n",
    "}\n",
    "auth_params_pass = {\n",
    "    \"username\" : \"shaurya.rawat@####.com\",\n",
    "    \"password\" : \"####\",\n",
    "    \"grant_type\" : \"password\"\n",
    "}\n",
    "auth_params_rfsh_tkn = {\n",
    "    \"refresh_token\" : None,\n",
    "    \"grant_type\" : \"refresh_token\"\n",
    "}\n",
    "access_token = None,\n",
    "refresh_token = None,\n",
    "expires_in = 0"
   ]
  },
  {
   "cell_type": "code",
   "execution_count": 10,
   "id": "8139ea86",
   "metadata": {},
   "outputs": [],
   "source": [
    "def reltio_authorization_request(auth_uri,auth_headers,auth_params):\n",
    "    global access_token, refresh_token, expires_in\n",
    "    response = requests.post(auth_uri,params = auth_params, headers = auth_headers)\n",
    "    if response.ok and response.status_code == 200:\n",
    "        print(\"Authorization token generated successfully!\")\n",
    "        response_body = response.json()\n",
    "        access_token = response_body['access_token']\n",
    "        refresh_token = response_body['refresh_token']\n",
    "        expires_in = response_body['expires_in']\n",
    "        token_type = response_body['token_type']\n",
    "        scope = response_body['scope']\n",
    "        print(\"Access Token : \"+access_token)\n",
    "        print(\"Token Type : \"+token_type)\n",
    "        print(\"Token expires in %s seconds\" %expires_in)\n",
    "        print(\"Refresh Token : \"+refresh_token)\n",
    "        print(\"This Token can be used for : \"+scope)\n",
    "    elif response.status_code == 401:\n",
    "        print(\"Unauthorized\")\n",
    "    elif response.status_code == 404:\n",
    "        print(\"Authorization url is incorrect\")\n",
    "    elif response.status_code == 400:\n",
    "        print(\"Exception occured while creating Authorization requests\")\n",
    "        print(\"Status Code %d\" %response.status_code)\n",
    "        print(\"Error : \" +response.json()['error'])\n",
    "        print(\"Error Description : \"+response.json()['error_description'])\n",
    "    else:\n",
    "        print(\"Exception Message : %d\" %response)\n",
    "    \n",
    "    return response_body if response.ok else None\n"
   ]
  },
  {
   "cell_type": "code",
   "execution_count": 11,
   "id": "b07a0328",
   "metadata": {},
   "outputs": [
    {
     "name": "stdout",
     "output_type": "stream",
     "text": [
      "Authorization token generated successfully!\n",
      "Access Token : 797e77bc-3ea8-4671-bd92-84df1c01b89f\n",
      "Token Type : bearer\n",
      "Token expires in 3313 seconds\n",
      "Refresh Token : 51765139-b020-433a-83b9-28b7c48dacaa\n",
      "This Token can be used for : clients_api configuration_api entities_api graphs_api groups_api interactions_api relations_api users_api\n"
     ]
    }
   ],
   "source": [
    "auth_response = reltio_authorization_request(auth_uri,auth_headers,auth_params_pass)"
   ]
  },
  {
   "cell_type": "code",
   "execution_count": 23,
   "id": "ae95a24c",
   "metadata": {},
   "outputs": [
    {
     "name": "stdout",
     "output_type": "stream",
     "text": [
      "Token expired. Refreshing the token\n",
      "Authorization token generated successfully!\n",
      "Access Token : 797e77bc-3ea8-4671-bd92-84df1c01b89f\n",
      "Token Type : bearer\n",
      "Token expires in 2894 seconds\n",
      "Refresh Token : 51765139-b020-433a-83b9-28b7c48dacaa\n",
      "This Token can be used for : clients_api configuration_api entities_api graphs_api groups_api interactions_api relations_api users_api\n"
     ]
    }
   ],
   "source": [
    "# Refreshing the token\n",
    "expires_in = 0\n",
    "if expires_in <= 0:\n",
    "    print(\"Token expired. Refreshing the token\")\n",
    "    auth_params_rfsh_tkn['refresh_token'] = refresh_token\n",
    "    auth_response2 = reltio_authorization_request(auth_uri,auth_headers,auth_params_rfsh_tkn)"
   ]
  }
 ],
 "metadata": {
  "kernelspec": {
   "display_name": "Python 3",
   "language": "python",
   "name": "python3"
  },
  "language_info": {
   "codemirror_mode": {
    "name": "ipython",
    "version": 3
   },
   "file_extension": ".py",
   "mimetype": "text/x-python",
   "name": "python",
   "nbconvert_exporter": "python",
   "pygments_lexer": "ipython3",
   "version": "3.8.8"
  }
 },
 "nbformat": 4,
 "nbformat_minor": 5
}
